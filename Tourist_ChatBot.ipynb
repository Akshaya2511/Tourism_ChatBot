{
 "cells": [
  {
   "cell_type": "code",
   "execution_count": 10,
   "metadata": {
    "colab": {
     "base_uri": "https://localhost:8080/",
     "height": 0
    },
    "id": "Yv42TunTU_6a",
    "outputId": "5141a643-bccf-489b-de97-9768a9f2e07d"
   },
   "outputs": [
    {
     "name": "stdout",
     "output_type": "stream",
     "text": [
      "Requirement already satisfied: fuzzywuzzy in c:\\users\\aksha\\miniconda3\\lib\\site-packages (0.18.0)\n"
     ]
    }
   ],
   "source": [
    "!pip install fuzzywuzzy"
   ]
  },
  {
   "cell_type": "code",
   "execution_count": 15,
   "metadata": {
    "colab": {
     "base_uri": "https://localhost:8080/",
     "height": 0
    },
    "id": "QYpZww72VDyL",
    "outputId": "7718897c-a29e-4e29-c42a-e6d2e22df20c"
   },
   "outputs": [
    {
     "ename": "SyntaxError",
     "evalue": "(unicode error) 'unicodeescape' codec can't decode bytes in position 2-3: truncated \\UXXXXXXXX escape (3540089698.py, line 6)",
     "output_type": "error",
     "traceback": [
      "\u001b[1;36m  Cell \u001b[1;32mIn[15], line 6\u001b[1;36m\u001b[0m\n\u001b[1;33m    with open(\"C:\\Users\\aksha\\OneDrive\\Desktop\\Chatbot\\trip_planning_dataset.json\", \"r\") as file:\u001b[0m\n\u001b[1;37m              ^\u001b[0m\n\u001b[1;31mSyntaxError\u001b[0m\u001b[1;31m:\u001b[0m (unicode error) 'unicodeescape' codec can't decode bytes in position 2-3: truncated \\UXXXXXXXX escape\n"
     ]
    }
   ],
   "source": [
    "import json\n",
    "import random\n",
    "from fuzzywuzzy import process\n",
    "from transformers import AutoTokenizer, AutoModelForSequenceClassification, pipeline\n",
    "# Load intents JSON\n",
    "with open(\"C:\\Users\\aksha\\OneDrive\\Desktop\\Chatbot\\trip_planning_dataset.json\", \"r\") as file:\n",
    "    intents = json.load(file)[\"intents\"]\n",
    "# Initialize the transformer model and tokenizer\n",
    "model_name = \"distilbert-base-uncased\"\n",
    "tokenizer = AutoTokenizer.from_pretrained(model_name)\n",
    "model = AutoModelForSequenceClassification.from_pretrained(model_name, num_labels=len(intents))\n",
    "\n",
    "# Create a classification pipeline\n",
    "classifier = pipeline(\"text-classification\", model=model, tokenizer=tokenizer)\n",
    "\n",
    "# Map intents to indices for training\n",
    "intent_to_label = {intent[\"tag\"]: i for i, intent in enumerate(intents)}\n",
    "label_to_intent = {i: intent[\"tag\"] for i, intent in enumerate(intents)}\n",
    "\n",
    "def detect_intent(user_input):\n",
    "    try:\n",
    "        # Use transformers model for classification\n",
    "        result = classifier(user_input)[0]\n",
    "        confidence = result[\"score\"]\n",
    "        intent_tag = result[\"label\"]\n",
    "\n",
    "        # Check confidence threshold\n",
    "        if confidence > 0.5:  # Adjust threshold as needed\n",
    "            return intent_tag\n",
    "    except:\n",
    "        pass\n",
    "\n",
    "    # Fallback to fuzzy matching\n",
    "    intent_scores = []\n",
    "    for intent in intents:\n",
    "        for pattern in intent[\"patterns\"]:\n",
    "            score = process.extractOne(user_input, [pattern])[1]\n",
    "            intent_scores.append((intent[\"tag\"], score))\n",
    "\n",
    "    # Get the intent with the highest score\n",
    "    best_match = max(intent_scores, key=lambda x: x[1])\n",
    "    if best_match[1] > 50:  # Set a threshold for confidence\n",
    "        return best_match[0]\n",
    "    return \"unknown\"  # Default fallback\n",
    "\n",
    "def get_response(intent_tag):\n",
    "    for intent in intents:\n",
    "        if intent[\"tag\"] == intent_tag:\n",
    "            return random.choice(intent[\"responses\"])  # Randomize responses if multiple are available\n",
    "    return \"Sorry, I don't have an answer for that.\"\n",
    "\n",
    "def chatbot_response(user_input):\n",
    "    detected_intent = detect_intent(user_input)\n",
    "    response = get_response(detected_intent)\n",
    "    return response\n",
    "\n",
    "# Run the chatbot\n",
    "print(\"Chatbot: Hi! I'm here to help with your trip planning. Ask me anything!\")\n",
    "while True:\n",
    "    user_input = input(\"You: \")\n",
    "    if user_input.lower() in [\"exit\", \"quit\", \"bye\", \"thank you\"]:\n",
    "        print(\"Chatbot: Goodbye! Have a great trip!\")\n",
    "        break\n",
    "    response = chatbot_response(user_input)\n",
    "    print(f\"Chatbot: {response}\")\n"
   ]
  }
 ],
 "metadata": {
  "colab": {
   "provenance": []
  },
  "kernelspec": {
   "display_name": "base",
   "language": "python",
   "name": "python3"
  },
  "language_info": {
   "codemirror_mode": {
    "name": "ipython",
    "version": 3
   },
   "file_extension": ".py",
   "mimetype": "text/x-python",
   "name": "python",
   "nbconvert_exporter": "python",
   "pygments_lexer": "ipython3",
   "version": "3.12.2"
  }
 },
 "nbformat": 4,
 "nbformat_minor": 0
}
